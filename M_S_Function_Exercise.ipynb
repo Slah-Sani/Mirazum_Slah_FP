{
 "cells": [
  {
   "cell_type": "markdown",
   "metadata": {},
   "source": [
    "# Task_1"
   ]
  },
  {
   "cell_type": "code",
   "execution_count": 23,
   "metadata": {},
   "outputs": [
    {
     "data": {
      "text/plain": [
       "'C:\\\\Users\\\\Omistaja\\\\Desktop\\\\Intigrify'"
      ]
     },
     "execution_count": 23,
     "metadata": {},
     "output_type": "execute_result"
    }
   ],
   "source": [
    "pwd"
   ]
  },
  {
   "cell_type": "code",
   "execution_count": 1,
   "metadata": {},
   "outputs": [
    {
     "name": "stdout",
     "output_type": "stream",
     "text": [
      "0\n",
      "[0, 1, 0]\n",
      "1\n",
      "[1, 2, 2]\n",
      "2\n",
      "[4, 4, 4]\n"
     ]
    }
   ],
   "source": [
    "def multiply (x):\n",
    "    return (x*x)\n",
    "def exponential(x):\n",
    "    return 2**x\n",
    "def add (x):\n",
    "    return(x+x)\n",
    "fun=[multiply,exponential,add]\n",
    "for i in range (3):\n",
    "    print(i)\n",
    "    \n",
    "    value= list(map(lambda x:x(i), fun))\n",
    "    print(value)\n"
   ]
  },
  {
   "cell_type": "code",
   "execution_count": 2,
   "metadata": {},
   "outputs": [
    {
     "data": {
      "text/plain": [
       "range(0, 1)"
      ]
     },
     "execution_count": 2,
     "metadata": {},
     "output_type": "execute_result"
    }
   ],
   "source": [
    "range(1)"
   ]
  },
  {
   "cell_type": "code",
   "execution_count": 18,
   "metadata": {},
   "outputs": [],
   "source": [
    "import numpy as np\n",
    "import pandas as pd\n",
    "import warnings\n",
    "warnings.filterwarnings(\"ignore\")"
   ]
  },
  {
   "cell_type": "code",
   "execution_count": 19,
   "metadata": {},
   "outputs": [
    {
     "name": "stdout",
     "output_type": "stream",
     "text": [
      "[3.75, 3.5, 2.318404623873926]\n"
     ]
    }
   ],
   "source": [
    "#x= np.random.randn(4,2)\n",
    "ts = [pd.Series([4,3,1,2,5,7.5])]\n",
    "\n",
    "def average (lst):\n",
    "    return sum(lst)/len(lst)\n",
    "\n",
    "def median(lst):\n",
    "    sortedLst = sorted(lst)\n",
    "    lstLen = len(lst)\n",
    "    index = (lstLen - 1) // 2       # // indicate floor division./ becomes a normal division ex 7 / 2 = 3.5\n",
    "\n",
    "                                      #// is now floor division 7 // 2 = 3\n",
    "    if (lstLen % 2):\n",
    "        return sortedLst[index]\n",
    "    else:\n",
    "        return (sortedLst[index] + sortedLst[index + 1])/2.0\n",
    "    \n",
    "def st_dev (lst):\n",
    "    n= len(lst)\n",
    "    mean=sum(lst)/n\n",
    "    sq_diff= ((lst-mean)**2).sum()\n",
    "    return (sq_diff/(n-1))**.5\n",
    "fun=[average,median,st_dev]\n",
    "for i in (ts):\n",
    "    #print(i)\n",
    "    value= list(map(lambda x:x(i),fun))\n",
    "    print(value)\n"
   ]
  },
  {
   "cell_type": "markdown",
   "metadata": {},
   "source": [
    "# Task_2"
   ]
  },
  {
   "cell_type": "code",
   "execution_count": 17,
   "metadata": {},
   "outputs": [],
   "source": [
    "#GCD of two numbers is Euclid’s algorithm, which is based on the observation that if r is the remainder when a is divided by b,\n",
    "#then gcd(a, b) = gcd(b, r). As a base case, we can use gcd(a, 0) = a."
   ]
  },
  {
   "cell_type": "raw",
   "metadata": {},
   "source": [
    "Formally, Euclid described the algorithm for gcd of two numbers a and b as:\n",
    "\n",
    "gcd(a, b) = a, if b = 0\n",
    "gcd(a, b) = gcd(b, a), if b > a\n",
    "gcd(a, b) = gcd(b, a % b), if b <= a"
   ]
  },
  {
   "cell_type": "code",
   "execution_count": 6,
   "metadata": {},
   "outputs": [
    {
     "name": "stdout",
     "output_type": "stream",
     "text": [
      "The greast common divisor is 6.\n"
     ]
    }
   ],
   "source": [
    "from functools import reduce\n",
    "\n",
    "def gcd( a,b):\n",
    "    if (b==0):\n",
    "        return a\n",
    "    else:\n",
    "        return gcd(b,a%b)   # x % y (remainder of x/y)\n",
    "A= [306,60]\n",
    "\n",
    "\n",
    "GCD= reduce(lambda x,y: gcd(x,y), A)\n",
    "print(\"The greast common divisor is {}.\".format(GCD))"
   ]
  },
  {
   "cell_type": "code",
   "execution_count": 7,
   "metadata": {},
   "outputs": [
    {
     "data": {
      "text/plain": [
       "6"
      ]
     },
     "execution_count": 7,
     "metadata": {},
     "output_type": "execute_result"
    }
   ],
   "source": [
    "from fractions import gcd\n",
    "gcd(306,60)"
   ]
  },
  {
   "cell_type": "markdown",
   "metadata": {},
   "source": [
    "# Task_3"
   ]
  },
  {
   "cell_type": "raw",
   "metadata": {},
   "source": [
    "Write a function groupby_demonstrator that takes as a list of tuples as an input (arg data) as well as boolean argument (verify_sorted). If verify_sorted is true, the list is sorted by the first key (0-th tuple element), otherwise it is not sorted.\n",
    "The function should print out key-value pairs by groups (as output from Python groupby). The print statements between groups should have an empty line. Print statements inside-group should not have empty lines in between (just new lines between records).\n",
    "\n",
    "Add a decorator ‘ensure_sourted_grouper’ that overrides the grouping, by making sure that the list is sorted when an argument ‘verify_sorted’ = True is passed. Otherwise, “You didn’t enforce the order” is printed to the console."
   ]
  },
  {
   "cell_type": "code",
   "execution_count": 14,
   "metadata": {},
   "outputs": [
    {
     "name": "stdout",
     "output_type": "stream",
     "text": [
      "animal\n",
      "\n",
      "[('animal', 'cow')]\n",
      "car\n",
      "\n",
      "[('car', 'audi'), ('car', 'BMW')]\n",
      "tree\n",
      "\n",
      "[('tree', 'Mango')]\n"
     ]
    },
    {
     "data": {
      "text/plain": [
       "<function __main__.groupby_demo(arg, verify_sorted)>"
      ]
     },
     "execution_count": 14,
     "metadata": {},
     "output_type": "execute_result"
    }
   ],
   "source": [
    "from itertools import groupby\n",
    "\n",
    "def groupby_demo(arg,verify_sorted):\n",
    "    if verify_sorted == True:\n",
    "        data= sorted(arg,key=lambda tup: tup[0])\n",
    "        for k,g in groupby(data,key=lambda tup: tup[0]):   \n",
    "            print (k,list(g), sep='\\n\\n')\n",
    "            \n",
    "        #print(\"An example of{key} is {value}\".format(*group), sep='\\n\\n')\n",
    "       \n",
    "    else:\n",
    "        print(arg)\n",
    "        \n",
    "\n",
    "groupby_demo([('animal', 'cow'), ('car', 'audi'), ('car', 'BMW'),('tree', 'Mango')], verify_sorted=True )\n",
    "\n",
    "(groupby_demo)"
   ]
  },
  {
   "cell_type": "code",
   "execution_count": 15,
   "metadata": {
    "code_folding": [
     14
    ]
   },
   "outputs": [
    {
     "name": "stdout",
     "output_type": "stream",
     "text": [
      "{'verify_sorted': True}\n",
      "animal\n",
      "\n",
      "[('animal', 'cow')]\n",
      "car\n",
      "\n",
      "[('car', 'audi'), ('car', 'BMW')]\n",
      "tree\n",
      "\n",
      "[('tree', 'Mango')]\n"
     ]
    },
    {
     "data": {
      "text/plain": [
       "<function __main__.ensure_authorized.<locals>.wrapper_calling_fun(*args, **kwargs)>"
      ]
     },
     "execution_count": 15,
     "metadata": {},
     "output_type": "execute_result"
    }
   ],
   "source": [
    "from itertools import groupby\n",
    "def ensure_authorized(fun):\n",
    "    def wrapper_calling_fun(*args,**kwargs):\n",
    "        print(kwargs)\n",
    "        #print(\"hello\")\n",
    "        if kwargs.get(\"verify_sorted\")==True:\n",
    "            #print(\"this is true\")\n",
    "            sorted_value=sorted(args,key=lambda x:x[0])\n",
    "            fun(*args,**kwargs)\n",
    "        else :\n",
    "            \n",
    "            print ('You didn’t enforce the order')\n",
    "    return wrapper_calling_fun\n",
    "@ensure_authorized\n",
    "def groupby_demo(arg,verify_sorted):\n",
    "    #if verify_sorted == True:\n",
    "        #data= sorted(arg,key=lambda tup: tup[0])\n",
    "        for k,g in groupby(arg,key=lambda tup: tup[0]):   \n",
    "            print (k,list(g), sep='\\n\\n')\n",
    "            \n",
    "        #print(\"An example of{key} is {value}\".format(*group), sep='\\n\\n')\n",
    "       \n",
    "    #else:\n",
    "        #print(arg)\n",
    "        \n",
    "#a= [('2044-04-05', 'parzival'), ('2044-04-07', 'aech'), ('2044-04-06', 'art3mis')]\n",
    "groupby_demo([('animal', 'cow'), ('car', 'audi'), ('car', 'BMW'),('tree', 'Mango')], verify_sorted=True )\n",
    "\n",
    "(groupby_demo)"
   ]
  }
 ],
 "metadata": {
  "kernelspec": {
   "display_name": "Python 3",
   "language": "python",
   "name": "python3"
  },
  "language_info": {
   "codemirror_mode": {
    "name": "ipython",
    "version": 3
   },
   "file_extension": ".py",
   "mimetype": "text/x-python",
   "name": "python",
   "nbconvert_exporter": "python",
   "pygments_lexer": "ipython3",
   "version": "3.7.0"
  },
  "toc": {
   "base_numbering": 1,
   "nav_menu": {},
   "number_sections": true,
   "sideBar": true,
   "skip_h1_title": false,
   "title_cell": "Table of Contents",
   "title_sidebar": "Contents",
   "toc_cell": false,
   "toc_position": {},
   "toc_section_display": true,
   "toc_window_display": false
  },
  "varInspector": {
   "cols": {
    "lenName": 16,
    "lenType": 16,
    "lenVar": 40
   },
   "kernels_config": {
    "python": {
     "delete_cmd_postfix": "",
     "delete_cmd_prefix": "del ",
     "library": "var_list.py",
     "varRefreshCmd": "print(var_dic_list())"
    },
    "r": {
     "delete_cmd_postfix": ") ",
     "delete_cmd_prefix": "rm(",
     "library": "var_list.r",
     "varRefreshCmd": "cat(var_dic_list()) "
    }
   },
   "types_to_exclude": [
    "module",
    "function",
    "builtin_function_or_method",
    "instance",
    "_Feature"
   ],
   "window_display": false
  }
 },
 "nbformat": 4,
 "nbformat_minor": 2
}

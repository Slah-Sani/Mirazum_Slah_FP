{
 "cells": [
  {
   "cell_type": "markdown",
   "metadata": {},
   "source": [
    "# Task_1"
   ]
  },
  {
   "cell_type": "code",
   "execution_count": 23,
   "metadata": {},
   "outputs": [
    {
     "data": {
      "text/plain": [
       "'C:\\\\Users\\\\Omistaja\\\\Desktop\\\\Intigrify'"
      ]
     },
     "execution_count": 23,
     "metadata": {},
     "output_type": "execute_result"
    }
   ],
   "source": [
    "pwd"
   ]
  },
  {
   "cell_type": "code",
   "execution_count": 1,
   "metadata": {},
   "outputs": [
    {
     "name": "stdout",
     "output_type": "stream",
     "text": [
      "0\n",
      "[0, 1, 0]\n",
      "1\n",
      "[1, 2, 2]\n",
      "2\n",
      "[4, 4, 4]\n"
     ]
    }
   ],
   "source": [
    "def multiply (x):\n",
    "    return (x*x)\n",
    "def exponential(x):\n",
    "    return 2**x\n",
    "def add (x):\n",
    "    return(x+x)\n",
    "fun=[multiply,exponential,add]\n",
    "for i in range (3):\n",
    "    print(i)\n",
    "    \n",
    "    value= list(map(lambda x:x(i), fun))\n",
    "    print(value)\n"
   ]
  },
  {
   "cell_type": "code",
   "execution_count": 2,
   "metadata": {},
   "outputs": [
    {
     "data": {
      "text/plain": [
       "range(0, 1)"
      ]
     },
     "execution_count": 2,
     "metadata": {},
     "output_type": "execute_result"
    }
   ],
   "source": [
    "range(1)"
   ]
  },
  {
   "cell_type": "code",
   "execution_count": 18,
   "metadata": {},
   "outputs": [],
   "source": [
    "import numpy as np\n",
    "import pandas as pd\n",
    "import warnings\n",
    "warnings.filterwarnings(\"ignore\")"
   ]
  },
  {
   "cell_type": "code",
   "execution_count": 19,
   "metadata": {},
   "outputs": [
    {
     "name": "stdout",
     "output_type": "stream",
     "text": [
      "[3.75, 3.5, 2.318404623873926]\n"
     ]
    }
   ],
   "source": [
    "#x= np.random.randn(4,2)\n",
    "ts = [pd.Series([4,3,1,2,5,7.5])]\n",
    "\n",
    "def average (lst):\n",
    "    return sum(lst)/len(lst)\n",
    "\n",
    "def median(lst):\n",
    "    sortedLst = sorted(lst)\n",
    "    lstLen = len(lst)\n",
    "    index = (lstLen - 1) // 2       # // indicate floor division./ becomes a normal division ex 7 / 2 = 3.5\n",
    "\n",
    "                                      #// is now floor division 7 // 2 = 3\n",
    "    if (lstLen % 2):\n",
    "        return sortedLst[index]\n",
    "    else:\n",
    "        return (sortedLst[index] + sortedLst[index + 1])/2.0\n",
    "    \n",
    "def st_dev (lst):\n",
    "    n= len(lst)\n",
    "    mean=sum(lst)/n\n",
    "    sq_diff= ((lst-mean)**2).sum()\n",
    "    return (sq_diff/(n-1))**.5\n",
    "fun=[average,median,st_dev]\n",
    "for i in (ts):\n",
    "    #print(i)\n",
    "    value= list(map(lambda x:x(i),fun))\n",
    "    print(value)\n"
   ]
  },
  {
   "cell_type": "markdown",
   "metadata": {},
   "source": [
    "# Task_2"
   ]
  },
  {
   "cell_type": "code",
   "execution_count": 17,
   "metadata": {},
   "outputs": [],
   "source": [
    "#GCD of two numbers is Euclid’s algorithm, which is based on the observation that if r is the remainder when a is divided by b,\n",
    "#then gcd(a, b) = gcd(b, r). As a base case, we can use gcd(a, 0) = a."
   ]
  },
  {
   "cell_type": "raw",
   "metadata": {},
   "source": [
    "Formally, Euclid described the algorithm for gcd of two numbers a and b as:\n",
    "\n",
    "gcd(a, b) = a, if b = 0\n",
    "gcd(a, b) = gcd(b, a), if b > a\n",
    "gcd(a, b) = gcd(b, a % b), if b <= a"
   ]
  },
  {
   "cell_type": "code",
   "execution_count": 6,
   "metadata": {},
   "outputs": [
    {
     "name": "stdout",
     "output_type": "stream",
     "text": [
      "The greast common divisor is 6.\n"
     ]
    }
   ],
   "source": [
    "from functools import reduce\n",
    "\n",
    "def gcd( a,b):\n",
    "    if (b==0):\n",
    "        return a\n",
    "    else:\n",
    "        return gcd(b,a%b)   # x % y (remainder of x/y)\n",
    "A= [306,60]\n",
    "\n",
    "\n",
    "GCD= reduce(lambda x,y: gcd(x,y), A)\n",
    "print(\"The greast common divisor is {}.\".format(GCD))"
   ]
  },
  {
   "cell_type": "code",
   "execution_count": 7,
   "metadata": {},
   "outputs": [
    {
     "data": {
      "text/plain": [
       "6"
      ]
     },
     "execution_count": 7,
     "metadata": {},
     "output_type": "execute_result"
    }
   ],
   "source": [
    "from fractions import gcd\n",
    "gcd(306,60)"
   ]
  },
  {
   "cell_type": "markdown",
   "metadata": {},
   "source": [
    "# Task_3"
   ]
  },
  {
   "cell_type": "markdown",
   "metadata": {},
   "source": [
    "Write a function groupby_demonstrator that takes as a list of tuples as an input (arg data) as well as boolean argument (verify_sorted). If verify_sorted is true, the list is sorted by the first key (0-th tuple element), otherwise it is not sorted.\n",
    "The function should print out key-value pairs by groups (as output from Python groupby). The print statements between groups should have an empty line. Print statements inside-group should not have empty lines in between (just new lines between records).\n",
    "\n",
    "Add a decorator ‘ensure_sourted_grouper’ that overrides the grouping, by making sure that the list is sorted when an argument ‘verify_sorted’ = True is passed. Otherwise, “You didn’t enforce the order” is printed to the console."
   ]
  },
  {
   "cell_type": "code",
   "execution_count": 25,
   "metadata": {},
   "outputs": [
    {
     "name": "stdout",
     "output_type": "stream",
     "text": [
      "animal\n",
      "\n",
      "[('animal', 'cow'), ('animal', 'goat')]\n",
      "car\n",
      "\n",
      "[('car', 'audi'), ('car', 'BMW')]\n",
      "tree\n",
      "\n",
      "[('tree', 'Mango')]\n"
     ]
    },
    {
     "data": {
      "text/plain": [
       "<function __main__.groupby_demo(arg, verify_sorted)>"
      ]
     },
     "execution_count": 25,
     "metadata": {},
     "output_type": "execute_result"
    }
   ],
   "source": [
    "from itertools import groupby\n",
    "\n",
    "def groupby_demo(arg,verify_sorted):\n",
    "    if verify_sorted == True:\n",
    "        data= sorted(arg,key=lambda tup: tup[0])\n",
    "        for k,g in groupby(data,key=lambda tup: tup[0]):   \n",
    "            print (k,list(g), sep='\\n\\n')\n",
    "            \n",
    "        #print(\"An example of{key} is {value}\".format(*group), sep='\\n\\n')\n",
    "       \n",
    "    else:\n",
    "        print(arg)\n",
    "        \n",
    "\n",
    "groupby_demo([('animal', 'cow'), ('car', 'audi'), ('car', 'BMW'),('tree', 'Mango'),('animal', 'goat')], verify_sorted=True )\n",
    "\n",
    "(groupby_demo)"
   ]
  },
  {
   "cell_type": "code",
   "execution_count": 29,
   "metadata": {
    "code_folding": [
     14
    ]
   },
   "outputs": [
    {
     "name": "stdout",
     "output_type": "stream",
     "text": [
      "{'verify_sorted': True}\n",
      "animal\n",
      "\n",
      "[('animal', 'cow'), ('animal', 'goat')]\n",
      "car\n",
      "\n",
      "[('car', 'audi'), ('car', 'BMW')]\n",
      "tree\n",
      "\n",
      "[('tree', 'Mango')]\n"
     ]
    },
    {
     "data": {
      "text/plain": [
       "<function __main__.ensure_authorized.<locals>.wrapper_calling_fun(*args, **kwargs)>"
      ]
     },
     "execution_count": 29,
     "metadata": {},
     "output_type": "execute_result"
    }
   ],
   "source": [
    "from itertools import groupby\n",
    "def ensure_authorized(fun):\n",
    "    def wrapper_calling_fun(*args,**kwargs):\n",
    "        print(kwargs)\n",
    "        #print(\"hello\")\n",
    "        if kwargs.get(\"verify_sorted\")==True:\n",
    "            #print(\"this is true\")\n",
    "            sorted_value=sorted(*args,key=lambda x:x[0])\n",
    "            #print(sorted_value)\n",
    "            fun(sorted_value,**kwargs)\n",
    "        else :\n",
    "            \n",
    "            print ('You didn’t enforce the order')\n",
    "    return wrapper_calling_fun\n",
    "@ensure_authorized\n",
    "def groupby_demo(arg,verify_sorted):\n",
    "    #if verify_sorted == True:\n",
    "        #data= sorted(arg,key=lambda tup: tup[0])\n",
    "        for k,g in groupby(arg,key=lambda tup: tup[0]):   \n",
    "            print (k,list(g), sep='\\n\\n')\n",
    "            \n",
    "        \n",
    "       \n",
    "    #else:\n",
    "        #print(arg)\n",
    "        \n",
    "\n",
    "groupby_demo([('animal', 'cow'), ('car', 'audi'), ('car', 'BMW'),('tree', 'Mango'),('animal', 'goat')], verify_sorted=True )\n",
    "\n",
    "(groupby_demo)"
   ]
  },
  {
   "cell_type": "markdown",
   "metadata": {},
   "source": [
    "# Task 4\n",
    "\n",
    "\n",
    "# Functional Programming\n",
    "\n",
    "Functional programming is a coding paradigm which decomposes a problem into a set of functions. Functions only take inputs and produce outputs, and do not have any internal state that affects the output.\n",
    "\n",
    "The building blocks of functional programming are \n",
    "\n",
    "* pure functions \n",
    "* immutable values\n",
    "\n",
    "     Pure function\n",
    "     a function that share no state with other functions. Every time a pure function has a given input, \n",
    "     it will return the same output without mutating data or causing side effects. \n",
    "\n",
    "Pure functions are often compared to mathematical operations. For example, 3 plus 4 will always equal 7, regardless of what other mathematical operations are being done, or how many times we have added things together before.\n",
    "\n",
    "* Immutable values\n",
    "    Functional programming uses Immutable data.\n",
    "    In functional programming functions can not update variables.\n",
    "\n",
    "\n",
    "* Iteration can be replaced with recursion to iterate collection data.\n",
    "\n",
    "     In functional programming Iteration can be replaced with recursion, because it is the functional way to cause the \n",
    "     same action to occur multiple times. The function calls itself, with new inputs, until the parameters meet a \n",
    "     termination condition."
   ]
  },
  {
   "cell_type": "markdown",
   "metadata": {},
   "source": [
    "Functional programming languages are designed on the concept of mathematical functions that use conditional expressions and recursion to perform computation.\n",
    "\n",
    "\n",
    "* Efficient Parallel Programming\n",
    "    Functional programming languages have NO Mutable state, so there are no state-change issues. \n",
    "    we can program \"Functions\" to work parallel as \"instructions\". \n",
    "\n",
    "\n",
    "* FP codes support easy reusability and testability.\n",
    "\n",
    "* Efficiency − Functional programs consist of independent units that can run concurrently. Which makes these programs more   efficient.\n",
    "\n",
    "* Supports Nested Functions − Functional programming supports Nested Functions."
   ]
  },
  {
   "cell_type": "markdown",
   "metadata": {},
   "source": [
    "### Lambda / anonymous functions\n",
    "\n",
    "The lambda syntax allows us to create function definitions in a declarative way.\n",
    "\n",
    "The other term for this concept is anonymous function.\n",
    "\n",
    "lambda functions can be used in-line without ever actually needing a name. \n",
    "\n",
    "In Python, we create an anonymous function with the lambda keyword"
   ]
  },
  {
   "cell_type": "code",
   "execution_count": 3,
   "metadata": {
    "ExecuteTime": {
     "end_time": "2019-07-08T11:26:03.046255Z",
     "start_time": "2019-07-08T11:26:03.038261Z"
    }
   },
   "outputs": [
    {
     "data": {
      "text/plain": [
       "7"
      ]
     },
     "execution_count": 3,
     "metadata": {},
     "output_type": "execute_result"
    }
   ],
   "source": [
    "(lambda a, b: a + b)(3, 4)  # returns 7"
   ]
  },
  {
   "cell_type": "markdown",
   "metadata": {},
   "source": [
    "If we assign an anonymous function to a variable, they perform exactly the same as any other function."
   ]
  },
  {
   "cell_type": "code",
   "execution_count": 4,
   "metadata": {
    "ExecuteTime": {
     "end_time": "2019-07-08T11:26:05.310389Z",
     "start_time": "2019-07-08T11:26:05.303392Z"
    }
   },
   "outputs": [
    {
     "data": {
      "text/plain": [
       "7"
      ]
     },
     "execution_count": 4,
     "metadata": {},
     "output_type": "execute_result"
    }
   ],
   "source": [
    "addition = lambda a, b: a + b\n",
    "addition(3, 4)  # returns 7"
   ]
  },
  {
   "cell_type": "code",
   "execution_count": 5,
   "metadata": {
    "ExecuteTime": {
     "end_time": "2019-07-08T11:26:06.010041Z",
     "start_time": "2019-07-08T11:26:06.004048Z"
    }
   },
   "outputs": [
    {
     "ename": "SyntaxError",
     "evalue": "invalid syntax (<ipython-input-5-bf36eb921c95>, line 1)",
     "output_type": "error",
     "traceback": [
      "\u001b[1;36m  File \u001b[1;32m\"<ipython-input-5-bf36eb921c95>\"\u001b[1;36m, line \u001b[1;32m1\u001b[0m\n\u001b[1;33m    Following function does the same thing as above\u001b[0m\n\u001b[1;37m                     ^\u001b[0m\n\u001b[1;31mSyntaxError\u001b[0m\u001b[1;31m:\u001b[0m invalid syntax\n"
     ]
    }
   ],
   "source": [
    "Following function does the same thing as above"
   ]
  },
  {
   "cell_type": "code",
   "execution_count": null,
   "metadata": {},
   "outputs": [],
   "source": [
    "def addition(a,b):\n",
    "    return(a+b)\n",
    "addition(3,4)"
   ]
  },
  {
   "cell_type": "markdown",
   "metadata": {},
   "source": [
    "\n",
    "Though Python is not primarily a functional language, it is able to support functional programming relatively easily because everything in Python is an object. That means that function definitions can be assigned to variables and passed around."
   ]
  },
  {
   "cell_type": "markdown",
   "metadata": {},
   "source": [
    "## Functools\n",
    "\n",
    "The most important higher order functions for functional programming, available in Python either in builtins or via the functools library are \n",
    "\n",
    "\n",
    "* map\n",
    "* filter\n",
    "* reduce "
   ]
  },
  {
   "cell_type": "markdown",
   "metadata": {},
   "source": [
    "###  map()\n",
    "\n",
    "Python map() function is used to apply a function on all the elements of specified iterable and return map object. Python map object is an iterator, so we can iterate over its elements. We can also convert map object to sequence objects such as list, tuple etc"
   ]
  },
  {
   "cell_type": "code",
   "execution_count": 6,
   "metadata": {
    "ExecuteTime": {
     "end_time": "2019-07-08T11:26:14.860054Z",
     "start_time": "2019-07-08T11:26:14.849060Z"
    }
   },
   "outputs": [
    {
     "data": {
      "text/plain": [
       "[2, 4, 6, 8, 10, 12]"
      ]
     },
     "execution_count": 6,
     "metadata": {},
     "output_type": "execute_result"
    }
   ],
   "source": [
    "val = [1,2,3,4,5,6]\n",
    "import functools\n",
    "list(map(lambda x:x*2, val))"
   ]
  },
  {
   "cell_type": "markdown",
   "metadata": {},
   "source": [
    "### filter()"
   ]
  },
  {
   "cell_type": "code",
   "execution_count": 7,
   "metadata": {
    "ExecuteTime": {
     "end_time": "2019-07-08T11:26:20.799972Z",
     "start_time": "2019-07-08T11:26:20.791976Z"
    }
   },
   "outputs": [
    {
     "data": {
      "text/plain": [
       "[3, 4, 5, 6]"
      ]
     },
     "execution_count": 7,
     "metadata": {},
     "output_type": "execute_result"
    }
   ],
   "source": [
    "list(filter(lambda x:x>=3, val))"
   ]
  },
  {
   "cell_type": "markdown",
   "metadata": {},
   "source": [
    "### reduce()\n",
    "\n",
    "It takes two arguments, a function and an iterable.\n",
    "\n",
    "reduce() uses a function to collect every item in a sequence into a single value.\n",
    "\n",
    "\n",
    "It calls the function on the first two items of the iterable, then on the result of this operation and the third item and so on. It returns a single value. For example, we can find the sum of all items of a list like this:"
   ]
  },
  {
   "cell_type": "code",
   "execution_count": 8,
   "metadata": {
    "ExecuteTime": {
     "end_time": "2019-07-08T11:26:22.655771Z",
     "start_time": "2019-07-08T11:26:22.648770Z"
    }
   },
   "outputs": [
    {
     "data": {
      "text/plain": [
       "21"
      ]
     },
     "execution_count": 8,
     "metadata": {},
     "output_type": "execute_result"
    }
   ],
   "source": [
    "functools.reduce(lambda a,b:a+b, val)"
   ]
  },
  {
   "cell_type": "markdown",
   "metadata": {},
   "source": [
    "### The practical advantages of using functional programming include the following:\n",
    "\n",
    "\n",
    "* Modularity\n",
    "\n",
    "Writing with a functional style makes sections of code easier to reuse in other contexts. Since the function does not depend on any external variable or state, calling it from a different piece of code is simple.\n",
    "\n",
    "\n",
    "* Brevity \n",
    "\n",
    "Functional programming is often less verbose (detailed) than other paradigms.\n",
    "\n",
    "* Concurrency\n",
    "\n",
    "Purely functional functions are thread-safe and can run concurrently. \n",
    "\n",
    "\n",
    "* Testability\n",
    "\n",
    "Testing a functional program is incredibly easy, all you need is a set of inputs and an expected set of outputs. \n",
    "\n",
    "\n",
    "Calling the same function over and over with the same arguments\n",
    "will always return the same result."
   ]
  },
  {
   "cell_type": "code",
   "execution_count": null,
   "metadata": {},
   "outputs": [],
   "source": []
  }
 ],
 "metadata": {
  "kernelspec": {
   "display_name": "Python 3",
   "language": "python",
   "name": "python3"
  },
  "language_info": {
   "codemirror_mode": {
    "name": "ipython",
    "version": 3
   },
   "file_extension": ".py",
   "mimetype": "text/x-python",
   "name": "python",
   "nbconvert_exporter": "python",
   "pygments_lexer": "ipython3",
   "version": "3.7.3"
  },
  "toc": {
   "base_numbering": 1,
   "nav_menu": {},
   "number_sections": true,
   "sideBar": true,
   "skip_h1_title": false,
   "title_cell": "Table of Contents",
   "title_sidebar": "Contents",
   "toc_cell": false,
   "toc_position": {},
   "toc_section_display": true,
   "toc_window_display": false
  },
  "varInspector": {
   "cols": {
    "lenName": 16,
    "lenType": 16,
    "lenVar": 40
   },
   "kernels_config": {
    "python": {
     "delete_cmd_postfix": "",
     "delete_cmd_prefix": "del ",
     "library": "var_list.py",
     "varRefreshCmd": "print(var_dic_list())"
    },
    "r": {
     "delete_cmd_postfix": ") ",
     "delete_cmd_prefix": "rm(",
     "library": "var_list.r",
     "varRefreshCmd": "cat(var_dic_list()) "
    }
   },
   "types_to_exclude": [
    "module",
    "function",
    "builtin_function_or_method",
    "instance",
    "_Feature"
   ],
   "window_display": false
  }
 },
 "nbformat": 4,
 "nbformat_minor": 2
}

{
 "cells": [
  {
   "cell_type": "markdown",
   "metadata": {},
   "source": [
    "# Task_1"
   ]
  },
  {
   "cell_type": "code",
   "execution_count": 1,
   "metadata": {},
   "outputs": [
    {
     "name": "stdout",
     "output_type": "stream",
     "text": [
      "0\n",
      "[0, 1, 0]\n",
      "1\n",
      "[1, 2, 2]\n",
      "2\n",
      "[4, 4, 4]\n"
     ]
    }
   ],
   "source": [
    "def multiply (x):\n",
    "    return (x*x)\n",
    "def exponential(x):\n",
    "    return 2**x\n",
    "def add (x):\n",
    "    return(x+x)\n",
    "fun=[multiply,exponential,add]\n",
    "for i in range (3):\n",
    "    print(i)\n",
    "    \n",
    "    value= list(map(lambda x:x(i), fun))\n",
    "    print(value)\n"
   ]
  },
  {
   "cell_type": "code",
   "execution_count": 2,
   "metadata": {},
   "outputs": [
    {
     "data": {
      "text/plain": [
       "range(0, 1)"
      ]
     },
     "execution_count": 2,
     "metadata": {},
     "output_type": "execute_result"
    }
   ],
   "source": [
    "range(1)"
   ]
  },
  {
   "cell_type": "code",
   "execution_count": 28,
   "metadata": {},
   "outputs": [],
   "source": [
    "import numpy as np\n",
    "import pandas as pd\n",
    "import warnings\n",
    "warnings.filterwarnings(\"ignore\")"
   ]
  },
  {
   "cell_type": "code",
   "execution_count": 29,
   "metadata": {},
   "outputs": [
    {
     "name": "stdout",
     "output_type": "stream",
     "text": [
      "0    4.0\n",
      "1    3.0\n",
      "2    1.0\n",
      "3    2.0\n",
      "4    5.0\n",
      "5    7.5\n",
      "dtype: float64\n",
      "[3.75, 3.5, 2.318404623873926]\n"
     ]
    }
   ],
   "source": [
    "#x= np.random.randn(4,2)\n",
    "ts = [pd.Series([4,3,1,2,5,7.5])]\n",
    "\n",
    "def average (lst):\n",
    "    return sum(lst)/len(lst)\n",
    "\n",
    "def median(lst):\n",
    "    sortedLst = sorted(lst)\n",
    "    lstLen = len(lst)\n",
    "    index = (lstLen - 1) // 2       # // indicate floor division./ becomes a normal division ex 7 / 2 = 3.5\n",
    "\n",
    "                                      #// is now floor division 7 // 2 = 3\n",
    "    if (lstLen % 2):\n",
    "        return sortedLst[index]\n",
    "    else:\n",
    "        return (sortedLst[index] + sortedLst[index + 1])/2.0\n",
    "    \n",
    "def st_dev (lst):\n",
    "    n= len(lst)\n",
    "    mean=sum(lst)/n\n",
    "    sq_diff= ((lst-mean)**2).sum()\n",
    "    return (sq_diff/(n-1))**.5\n",
    "fun=[average,median,st_dev]\n",
    "for i in (ts):\n",
    "    print(i)\n",
    "    value= list(map(lambda x:x(i),fun))\n",
    "    print(value)\n"
   ]
  },
  {
   "cell_type": "markdown",
   "metadata": {},
   "source": [
    "# Task_2"
   ]
  },
  {
   "cell_type": "code",
   "execution_count": 30,
   "metadata": {},
   "outputs": [],
   "source": [
    "#GCD of two numbers is Euclid’s algorithm, which is based on the observation that if r is the remainder when a is divided by b,\n",
    "#then gcd(a, b) = gcd(b, r). As a base case, we can use gcd(a, 0) = a."
   ]
  },
  {
   "cell_type": "raw",
   "metadata": {},
   "source": [
    "Formally, Euclid described the algorithm for gcd of two numbers a and b as:\n",
    "\n",
    "gcd(a, b) = a, if b = 0\n",
    "gcd(a, b) = gcd(b, a), if b > a\n",
    "gcd(a, b) = gcd(b, a % b), if b <= a"
   ]
  },
  {
   "cell_type": "code",
   "execution_count": 20,
   "metadata": {},
   "outputs": [
    {
     "name": "stdout",
     "output_type": "stream",
     "text": [
      "The greast common divisor is 2.\n"
     ]
    }
   ],
   "source": [
    "from functools import reduce\n",
    "\n",
    "def gcd( a,b):\n",
    "    if (b==0):\n",
    "        return a\n",
    "    else:\n",
    "        return gcd(b,a%b)   # x % y (remainder of x/y)\n",
    "A= [306,60,20]\n",
    "\n",
    "\n",
    "GCD= reduce(lambda x,y: gcd(x,y), A)\n",
    "print(\"The greast common divisor is {}.\".format(GCD))"
   ]
  },
  {
   "cell_type": "markdown",
   "metadata": {},
   "source": [
    "# Task_3"
   ]
  },
  {
   "cell_type": "code",
   "execution_count": null,
   "metadata": {},
   "outputs": [],
   "source": [
    "#https://www.geeksforgeeks.org/find-average-list-python/\n",
    "#https://gist.github.com/endolith/114336\n",
    "#https://stackoverflow.com/questions/22219004/grouping-rows-in-list-in-pandas-groupby"
   ]
  },
  {
   "cell_type": "code",
   "execution_count": 59,
   "metadata": {},
   "outputs": [
    {
     "name": "stdout",
     "output_type": "stream",
     "text": [
      "[('2044-04-05', 'parzival'), ('2044-04-06', 'art3mis'), ('2044-04-07', 'aech')]\n"
     ]
    }
   ],
   "source": [
    "#def groupby_demo(*arg):\n",
    "    \n",
    "\n",
    "\n",
    "a = [('2044-04-05', 'parzival'), ('2044-04-07', 'aech'), ('2044-04-06', 'art3mis')]\n",
    "a.sort(key=lambda tup: tup[0])\n",
    "print (a)"
   ]
  },
  {
   "cell_type": "code",
   "execution_count": 61,
   "metadata": {},
   "outputs": [
    {
     "name": "stdout",
     "output_type": "stream",
     "text": [
      "None\n"
     ]
    }
   ],
   "source": [
    "decorated = [(tup[1], tup) for tup in a]\n",
    "b=decorated.sort()\n",
    "print(b)"
   ]
  },
  {
   "cell_type": "code",
   "execution_count": null,
   "metadata": {},
   "outputs": [],
   "source": []
  },
  {
   "cell_type": "code",
   "execution_count": null,
   "metadata": {},
   "outputs": [],
   "source": []
  },
  {
   "cell_type": "code",
   "execution_count": null,
   "metadata": {},
   "outputs": [],
   "source": []
  },
  {
   "cell_type": "code",
   "execution_count": null,
   "metadata": {},
   "outputs": [],
   "source": []
  },
  {
   "cell_type": "code",
   "execution_count": null,
   "metadata": {},
   "outputs": [],
   "source": []
  }
 ],
 "metadata": {
  "kernelspec": {
   "display_name": "Python 3",
   "language": "python",
   "name": "python3"
  },
  "language_info": {
   "codemirror_mode": {
    "name": "ipython",
    "version": 3
   },
   "file_extension": ".py",
   "mimetype": "text/x-python",
   "name": "python",
   "nbconvert_exporter": "python",
   "pygments_lexer": "ipython3",
   "version": "3.7.3"
  },
  "toc": {
   "base_numbering": 1,
   "nav_menu": {},
   "number_sections": true,
   "sideBar": true,
   "skip_h1_title": false,
   "title_cell": "Table of Contents",
   "title_sidebar": "Contents",
   "toc_cell": false,
   "toc_position": {},
   "toc_section_display": true,
   "toc_window_display": false
  },
  "varInspector": {
   "cols": {
    "lenName": 16,
    "lenType": 16,
    "lenVar": 40
   },
   "kernels_config": {
    "python": {
     "delete_cmd_postfix": "",
     "delete_cmd_prefix": "del ",
     "library": "var_list.py",
     "varRefreshCmd": "print(var_dic_list())"
    },
    "r": {
     "delete_cmd_postfix": ") ",
     "delete_cmd_prefix": "rm(",
     "library": "var_list.r",
     "varRefreshCmd": "cat(var_dic_list()) "
    }
   },
   "types_to_exclude": [
    "module",
    "function",
    "builtin_function_or_method",
    "instance",
    "_Feature"
   ],
   "window_display": false
  }
 },
 "nbformat": 4,
 "nbformat_minor": 2
}
